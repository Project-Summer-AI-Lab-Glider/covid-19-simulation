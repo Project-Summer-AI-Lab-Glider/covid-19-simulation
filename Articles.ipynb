{
 "cells": [
  {
   "cell_type": "code",
   "execution_count": 40,
   "metadata": {},
   "outputs": [],
   "source": [
    "import numpy as np\n",
    "import pandas as pd\n",
    "import os.path\n",
    "#pull mathematical function definitions from Population.ipynb\n",
    "import import_ipynb\n",
    "import Population"
   ]
  },
  {
   "cell_type": "code",
   "execution_count": 105,
   "metadata": {},
   "outputs": [
    {
     "data": {
      "text/html": [
       "<div>\n",
       "<style scoped>\n",
       "    .dataframe tbody tr th:only-of-type {\n",
       "        vertical-align: middle;\n",
       "    }\n",
       "\n",
       "    .dataframe tbody tr th {\n",
       "        vertical-align: top;\n",
       "    }\n",
       "\n",
       "    .dataframe thead th {\n",
       "        text-align: right;\n",
       "    }\n",
       "</style>\n",
       "<table border=\"1\" class=\"dataframe\">\n",
       "  <thead>\n",
       "    <tr style=\"text-align: right;\">\n",
       "      <th></th>\n",
       "      <th>author</th>\n",
       "      <th>title</th>\n",
       "      <th>link</th>\n",
       "      <th>population</th>\n",
       "      <th>positive_population</th>\n",
       "      <th>multimorbid</th>\n",
       "    </tr>\n",
       "  </thead>\n",
       "  <tbody>\n",
       "    <tr>\n",
       "      <th>1</th>\n",
       "      <td>Yogini V. Chudasama</td>\n",
       "      <td>Multimorbidity and SARS-CoV-2 infection in UK ...</td>\n",
       "      <td>https://www.ncbi.nlm.nih.gov/pmc/articles/PMC7...</td>\n",
       "      <td>3002</td>\n",
       "      <td>1073</td>\n",
       "      <td>329</td>\n",
       "    </tr>\n",
       "  </tbody>\n",
       "</table>\n",
       "</div>"
      ],
      "text/plain": [
       "                author                                              title  \\\n",
       "1  Yogini V. Chudasama  Multimorbidity and SARS-CoV-2 infection in UK ...   \n",
       "\n",
       "                                                link population  \\\n",
       "1  https://www.ncbi.nlm.nih.gov/pmc/articles/PMC7...       3002   \n",
       "\n",
       "  positive_population multimorbid  \n",
       "1                1073         329  "
      ]
     },
     "execution_count": 105,
     "metadata": {},
     "output_type": "execute_result"
    }
   ],
   "source": [
    "def addArticle() :\n",
    "    #create a new article entry\n",
    "\n",
    "    metadataFields = [\"author\", \"title\", \"link\", \"population\", \"positive_population\", \"comorbidities\"]\n",
    "    \n",
    "    #metadata section\n",
    "    metadata = np.array([\n",
    "        (\"author\", \"title\", \"link\", \"population\", \"positive_population\", \"multimorbid\"),\n",
    "        (\"Yogini V. Chudasama\",\n",
    "         \"Multimorbidity and SARS-CoV-2 infection in UK Biobank\",\n",
    "         \"https://www.ncbi.nlm.nih.gov/pmc/articles/PMC7271848/\",\n",
    "         3002,\n",
    "         1073,\n",
    "         329)\n",
    "    ])\n",
    "    \n",
    "    \n",
    "    #data section\n",
    "    spec = [\"age\", \"gender\", \"race\", \"otherIllnesses\"]\n",
    "    weights = [[70, 6.5],\n",
    "               [[\"f\", \"m\"],[0.46, 0.54]],\n",
    "               [[\"white\",\"south asian\", \"black\",\"other\"],[0.85, 0.05, 0.06, 0.04]],\n",
    "               [[\"hypertension\", \"asthma\", \"cancer\", \"diabetes\"],[0.78, 0.12, 0.01, 0.09]]]\n",
    "    #raczej przekazanie funkcji zamiast stringów\n",
    "    distrmethods = [Population.normal, Population.choice, Population.choice, Population.choice]\n",
    "    data = [spec, weights, distrmethods]\n",
    "\n",
    "\n",
    "    #autmoatically find next file name in namespace\n",
    "    i = 0\n",
    "    while (os.path.isfile(f\"./data/data{i}.csv\")) == True :\n",
    "        i+=1\n",
    "    #save dataframe to file\n",
    "    pd.DataFrame(data).to_csv(f\"./data/data{i}.csv\")\n",
    "    \n",
    "    #write a corresponding entry to metadata file\n",
    "    newrow = pd.DataFrame().from_records(metadata, columns=metadata[0]).drop([0])\n",
    "    pd.read_csv(\"./data/metadata.csv\").append(newrow, ignore_index=True).to_csv(\"./data/metadata.csv\", index=False)\n",
    "    return \"entry saved\"\n",
    "addArticle()"
   ]
  },
  {
   "cell_type": "code",
   "execution_count": 91,
   "metadata": {},
   "outputs": [
    {
     "name": "stdout",
     "output_type": "stream",
     "text": [
      "True\n"
     ]
    },
    {
     "data": {
      "text/plain": [
       "[]"
      ]
     },
     "execution_count": 91,
     "metadata": {},
     "output_type": "execute_result"
    }
   ],
   "source": [
    "def readAllArticles() :\n",
    "    iter = 0\n",
    "    ret = list()\n",
    "    while print(os.path.isfile(f\"./data/data{iter}.csv\")) == True :\n",
    "        ret.append(pd.read_csv(f\"./data/data{iter}.csv\"))\n",
    "    return ret\n",
    "readAllArticles()"
   ]
  },
  {
   "cell_type": "code",
   "execution_count": 5,
   "metadata": {},
   "outputs": [
    {
     "data": {
      "text/plain": [
       "['data0.csv', 'metadata.csv']"
      ]
     },
     "execution_count": 5,
     "metadata": {},
     "output_type": "execute_result"
    }
   ],
   "source": [
    "arr = os.listdir(\"./data\")\n",
    "arr = list(filter())"
   ]
  },
  {
   "cell_type": "code",
   "execution_count": 27,
   "metadata": {},
   "outputs": [
    {
     "data": {
      "text/plain": [
       "True"
      ]
     },
     "execution_count": 27,
     "metadata": {},
     "output_type": "execute_result"
    }
   ],
   "source": [
    "os.path.isfile(\"./data/data0.csv\")"
   ]
  },
  {
   "cell_type": "code",
   "execution_count": null,
   "metadata": {},
   "outputs": [],
   "source": []
  }
 ],
 "metadata": {
  "kernelspec": {
   "display_name": "Python 3",
   "language": "python",
   "name": "python3"
  },
  "language_info": {
   "codemirror_mode": {
    "name": "ipython",
    "version": 3
   },
   "file_extension": ".py",
   "mimetype": "text/x-python",
   "name": "python",
   "nbconvert_exporter": "python",
   "pygments_lexer": "ipython3",
   "version": "3.8.5"
  }
 },
 "nbformat": 4,
 "nbformat_minor": 4
}
