{
 "cells": [
  {
   "cell_type": "code",
   "execution_count": 1,
   "metadata": {},
   "outputs": [],
   "source": [
    "import numpy as np\n",
    "import pandas as pd\n",
    "import os.path"
   ]
  },
  {
   "cell_type": "code",
   "execution_count": 2,
   "metadata": {},
   "outputs": [],
   "source": [
    "def addArticle(fields, data) :\n",
    "    #create a new article entry\n",
    "\n",
    "    metadataFields = [\"author\", \"title\", \"link\", \"population\", \"positive_population\", \"comorbidities\"]\n",
    "    \n",
    "    #metadata section\n",
    "    author = \"Yogini V. Chudasama\"\n",
    "    title = \"Multimorbidity and SARS-CoV-2 infection in UK Biobank\"\n",
    "    link = \"https://www.ncbi.nlm.nih.gov/pmc/articles/PMC7271848/\"\n",
    "\n",
    "    #data section\n",
    "    population = 3002\n",
    "    positive_population = 1073\n",
    "    multimorbid = 329\n",
    "\n",
    "    spec = [\"age\", \"gender\", \"race\", \"otherIllnesses\"]\n",
    "    weights = [[70, 6.5],\n",
    "               [[\"f\", \"m\"],[0.46, 0.54]],\n",
    "               [[\"white\",\"south asian\", \"black\",\"other\"],[0.85, 0.05, 0.06, 0.04]],\n",
    "               [[\"hypertension\", \"asthma\", \"cancer\", \"diabetes\"],[0.78, 0.12, 0.01, 0.09]]]\n",
    "    #raczej przekazanie funkcji zamiast stringów\n",
    "    distrmethods = [normal, choice, choice, choice]\n",
    "    data = [spec, weights, distrmethods]\n",
    "\n",
    "\n",
    "    #autmoatically find next file name in namespace\n",
    "    i = 0\n",
    "    while print(os.path.isfile(f\"./data/data{i}.csv\")) == True :\n",
    "        i+=1\n",
    "    #save dataframe to file\n",
    "    pd.DataFrame(data).to_csv(f\"./data/data{i}.csv\")\n",
    "    \n",
    "    #write a corresponding entry to metadata file\n",
    "    #intersect existing columns \n",
    "    newrow = pd.Series(author, title, link, population, positive_population, multimorbid)\n",
    "    columns = set().intersection(metadataFields)\n",
    "    pd.read_csv(\"./data/metadata.csv\").append(newrow).to_csv(\"./data/metadata.csv\")\n",
    "    return 0"
   ]
  },
  {
   "cell_type": "code",
   "execution_count": 3,
   "metadata": {},
   "outputs": [
    {
     "ename": "SyntaxError",
     "evalue": "invalid syntax (<ipython-input-3-05ea950782e0>, line 1)",
     "output_type": "error",
     "traceback": [
      "\u001b[1;36m  File \u001b[1;32m\"<ipython-input-3-05ea950782e0>\"\u001b[1;36m, line \u001b[1;32m1\u001b[0m\n\u001b[1;33m    def readAllArticles :\u001b[0m\n\u001b[1;37m                        ^\u001b[0m\n\u001b[1;31mSyntaxError\u001b[0m\u001b[1;31m:\u001b[0m invalid syntax\n"
     ]
    }
   ],
   "source": [
    "def readAllArticles :\n",
    "    iter = 0\n",
    "    ret = []\n",
    "    while print(os.path.isfile(f\"./data/data{iter}.csv\")) == True :\n",
    "        red = pd.read_csv(f\"./data/data{iter}.csv\")"
   ]
  },
  {
   "cell_type": "code",
   "execution_count": 5,
   "metadata": {},
   "outputs": [
    {
     "data": {
      "text/plain": [
       "['data0.csv', 'metadata.csv']"
      ]
     },
     "execution_count": 5,
     "metadata": {},
     "output_type": "execute_result"
    }
   ],
   "source": [
    "arr = os.listdir(\"./data\")\n",
    "arr = list(filter())"
   ]
  },
  {
   "cell_type": "code",
   "execution_count": null,
   "metadata": {},
   "outputs": [],
   "source": []
  }
 ],
 "metadata": {
  "kernelspec": {
   "display_name": "Python 3",
   "language": "python",
   "name": "python3"
  },
  "language_info": {
   "codemirror_mode": {
    "name": "ipython",
    "version": 3
   },
   "file_extension": ".py",
   "mimetype": "text/x-python",
   "name": "python",
   "nbconvert_exporter": "python",
   "pygments_lexer": "ipython3",
   "version": "3.8.5"
  }
 },
 "nbformat": 4,
 "nbformat_minor": 4
}
