{
 "cells": [
  {
   "cell_type": "markdown",
   "metadata": {},
   "source": [
    "<h1>Population generation</h1>"
   ]
  },
  {
   "cell_type": "code",
   "execution_count": 121,
   "metadata": {},
   "outputs": [],
   "source": [
    "#necessary imports\n",
    "import numpy as np\n",
    "import pandas as pd\n",
    "from numpy import random"
   ]
  },
  {
   "cell_type": "code",
   "execution_count": 122,
   "metadata": {},
   "outputs": [],
   "source": [
    "#możliwe generowane pola. Generacja opiera się o przecięcie tego zbioru = Ω ze zbiorem generowanym = A ⊂ Ω\n",
    "populationFields = [\"age\", \"gender\", \"race\", \"otherIllnesses\", \"BMI\", \"physicalActivity\"]\n",
    "\n",
    "from enum import Enum\n",
    "class OtherIllnesses(Enum):\n",
    "    hypertension = 0\n",
    "    asthma = 1\n",
    "    cancer = 2\n",
    "    diabetes = 3\n",
    "    depression = 4\n",
    "    angina = 5\n",
    "    myocardialInfraction = 6\n",
    "    irritableBowelSyndrome = 7\n",
    "    stroke = 8\n",
    "    migraine = 9\n",
    "#end class\n"
   ]
  },
  {
   "cell_type": "code",
   "execution_count": 123,
   "metadata": {},
   "outputs": [
    {
     "data": {
      "text/plain": [
       "array([45.30556599, 47.96402958, 75.00658108, 78.30268751, 54.5245058 ,\n",
       "       58.27926583, 66.21901822, 56.26785594, 51.63847241, 43.96459462])"
      ]
     },
     "execution_count": 123,
     "metadata": {},
     "output_type": "execute_result"
    }
   ],
   "source": [
    "#każda funkcja zwraca ilość == amount danych dla całej populacji\n",
    "def normal(amount, spec):\n",
    "    return np.random.normal(spec[0], spec[1], amount)\n",
    "def choice(amount, spec):\n",
    "    return np.random.choice(spec[0], amount, True, spec[1])\n",
    "\n",
    "normal(10, [52, 12.5])"
   ]
  },
  {
   "cell_type": "code",
   "execution_count": 124,
   "metadata": {},
   "outputs": [],
   "source": [
    "#przykładowe generowanie populacji z niektórymi cechami\n",
    "\n",
    "testspec = [\"age\", \"gender\", \"race\"]\n",
    "testweights = [[56, 12.5],#age[mean, standard_deviation] - normal dist.\n",
    "            [[\"f\", \"m\"],[0.52, 0.48]],#gender[vals, weights] - weighted single choice\n",
    "            [[\"white\",\"black\",\"rainbow\"],[0.66, 0.22, 0.12]]]#race[vals, weights] - weighted single choice\n",
    "#raczej przekazanie funkcji zamiast stringów\n",
    "testdistrmethods = [normal, choice, choice, normal]\n",
    "testdata = [testspec, testweights, testdistrmethods]"
   ]
  },
  {
   "cell_type": "code",
   "execution_count": 125,
   "metadata": {
    "scrolled": false
   },
   "outputs": [
    {
     "data": {
      "text/html": [
       "<div>\n",
       "<style scoped>\n",
       "    .dataframe tbody tr th:only-of-type {\n",
       "        vertical-align: middle;\n",
       "    }\n",
       "\n",
       "    .dataframe tbody tr th {\n",
       "        vertical-align: top;\n",
       "    }\n",
       "\n",
       "    .dataframe thead th {\n",
       "        text-align: right;\n",
       "    }\n",
       "</style>\n",
       "<table border=\"1\" class=\"dataframe\">\n",
       "  <thead>\n",
       "    <tr style=\"text-align: right;\">\n",
       "      <th></th>\n",
       "      <th>age</th>\n",
       "      <th>gender</th>\n",
       "      <th>race</th>\n",
       "    </tr>\n",
       "  </thead>\n",
       "  <tbody>\n",
       "    <tr>\n",
       "      <th>0</th>\n",
       "      <td>80.510348</td>\n",
       "      <td>f</td>\n",
       "      <td>black</td>\n",
       "    </tr>\n",
       "    <tr>\n",
       "      <th>1</th>\n",
       "      <td>53.274185</td>\n",
       "      <td>m</td>\n",
       "      <td>white</td>\n",
       "    </tr>\n",
       "    <tr>\n",
       "      <th>2</th>\n",
       "      <td>32.602962</td>\n",
       "      <td>f</td>\n",
       "      <td>white</td>\n",
       "    </tr>\n",
       "    <tr>\n",
       "      <th>3</th>\n",
       "      <td>52.920873</td>\n",
       "      <td>f</td>\n",
       "      <td>white</td>\n",
       "    </tr>\n",
       "    <tr>\n",
       "      <th>4</th>\n",
       "      <td>64.870391</td>\n",
       "      <td>f</td>\n",
       "      <td>white</td>\n",
       "    </tr>\n",
       "    <tr>\n",
       "      <th>5</th>\n",
       "      <td>68.707785</td>\n",
       "      <td>f</td>\n",
       "      <td>white</td>\n",
       "    </tr>\n",
       "    <tr>\n",
       "      <th>6</th>\n",
       "      <td>56.281225</td>\n",
       "      <td>f</td>\n",
       "      <td>white</td>\n",
       "    </tr>\n",
       "    <tr>\n",
       "      <th>7</th>\n",
       "      <td>59.184343</td>\n",
       "      <td>f</td>\n",
       "      <td>white</td>\n",
       "    </tr>\n",
       "    <tr>\n",
       "      <th>8</th>\n",
       "      <td>39.285995</td>\n",
       "      <td>f</td>\n",
       "      <td>rainbow</td>\n",
       "    </tr>\n",
       "    <tr>\n",
       "      <th>9</th>\n",
       "      <td>63.283856</td>\n",
       "      <td>m</td>\n",
       "      <td>black</td>\n",
       "    </tr>\n",
       "    <tr>\n",
       "      <th>10</th>\n",
       "      <td>57.321436</td>\n",
       "      <td>f</td>\n",
       "      <td>white</td>\n",
       "    </tr>\n",
       "    <tr>\n",
       "      <th>11</th>\n",
       "      <td>69.689758</td>\n",
       "      <td>f</td>\n",
       "      <td>white</td>\n",
       "    </tr>\n",
       "    <tr>\n",
       "      <th>12</th>\n",
       "      <td>61.063704</td>\n",
       "      <td>m</td>\n",
       "      <td>white</td>\n",
       "    </tr>\n",
       "    <tr>\n",
       "      <th>13</th>\n",
       "      <td>47.529139</td>\n",
       "      <td>m</td>\n",
       "      <td>black</td>\n",
       "    </tr>\n",
       "    <tr>\n",
       "      <th>14</th>\n",
       "      <td>56.071773</td>\n",
       "      <td>f</td>\n",
       "      <td>white</td>\n",
       "    </tr>\n",
       "  </tbody>\n",
       "</table>\n",
       "</div>"
      ],
      "text/plain": [
       "          age gender     race\n",
       "0   80.510348      f    black\n",
       "1   53.274185      m    white\n",
       "2   32.602962      f    white\n",
       "3   52.920873      f    white\n",
       "4   64.870391      f    white\n",
       "5   68.707785      f    white\n",
       "6   56.281225      f    white\n",
       "7   59.184343      f    white\n",
       "8   39.285995      f  rainbow\n",
       "9   63.283856      m    black\n",
       "10  57.321436      f    white\n",
       "11  69.689758      f    white\n",
       "12  61.063704      m    white\n",
       "13  47.529139      m    black\n",
       "14  56.071773      f    white"
      ]
     },
     "execution_count": 125,
     "metadata": {},
     "output_type": "execute_result"
    }
   ],
   "source": [
    "def populateDatabase(amount, speclist):\n",
    "    #init rng for data generation\n",
    "    rng = default_rng()\n",
    "    #przecięcie zboiru generowanych cech i wszystkich możliwych\n",
    "    columns = set(speclist[0]).intersection(populationFields)\n",
    "    \n",
    "    df = pd.DataFrame()\n",
    "    for index,vals,method in zip(speclist[0],speclist[1],speclist[2]) :\n",
    "        df[index] = method(amount, vals)\n",
    "    \n",
    "    return df\n",
    "populateDatabase(15, testdata)"
   ]
  },
  {
   "cell_type": "code",
   "execution_count": null,
   "metadata": {},
   "outputs": [],
   "source": []
  },
  {
   "cell_type": "code",
   "execution_count": null,
   "metadata": {},
   "outputs": [],
   "source": []
  },
  {
   "cell_type": "code",
   "execution_count": null,
   "metadata": {},
   "outputs": [],
   "source": []
  }
 ],
 "metadata": {
  "kernelspec": {
   "display_name": "Python 3",
   "language": "python",
   "name": "python3"
  },
  "language_info": {
   "codemirror_mode": {
    "name": "ipython",
    "version": 3
   },
   "file_extension": ".py",
   "mimetype": "text/x-python",
   "name": "python",
   "nbconvert_exporter": "python",
   "pygments_lexer": "ipython3",
   "version": "3.8.5"
  }
 },
 "nbformat": 4,
 "nbformat_minor": 4
}
