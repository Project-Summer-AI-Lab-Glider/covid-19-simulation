{
 "cells": [
  {
   "cell_type": "markdown",
   "metadata": {},
   "source": [
    "<h1>Population generation</h1>"
   ]
  },
  {
   "cell_type": "code",
   "execution_count": 1,
   "metadata": {},
   "outputs": [],
   "source": [
    "#necessary imports\n",
    "import numpy as np\n",
    "import pandas as pd\n",
    "import scipy.stats\n",
    "from numpy import random\n",
    "from scipy.stats import truncnorm"
   ]
  },
  {
   "cell_type": "code",
   "execution_count": 2,
   "metadata": {},
   "outputs": [],
   "source": [
    "#możliwe generowane pola. Generacja opiera się o przecięcie tego zbioru = Ω ze zbiorem generowanym = A ⊂ Ω\n",
    "populationFields = [\"age\", \"gender\", \"race\", \"BMI\", \"physicalActivity\", \"otherIllnesses\"]\n",
    "\n",
    "from enum import Enum\n",
    "class OtherIllnesses(Enum):\n",
    "    hypertension = 0\n",
    "    asthma = 1\n",
    "    cancer = 2\n",
    "    diabetes = 3\n",
    "    depression = 4\n",
    "    angina = 5\n",
    "    myocardialInfraction = 6\n",
    "    irritableBowelSyndrome = 7\n",
    "    stroke = 8\n",
    "    migraine = 9\n",
    "#end class\n"
   ]
  },
  {
   "cell_type": "code",
   "execution_count": 3,
   "metadata": {},
   "outputs": [
    {
     "data": {
      "text/plain": [
       "array([42.11255233, 36.28569977, 50.39831414, 48.75391443, 41.3166839 ,\n",
       "       37.41337583, 48.03079895, 44.89424744, 57.18274378, 44.94979368])"
      ]
     },
     "execution_count": 3,
     "metadata": {},
     "output_type": "execute_result"
    }
   ],
   "source": [
    "#każda funkcja zwraca ilość == amount danych dla całej populacji\n",
    "def normal(amount, spec):\n",
    "    return np.random.normal(spec[0], spec[1], amount)\n",
    "def choice(amount, spec):\n",
    "    return np.random.choice(spec[0], amount, True, spec[1])\n",
    "def minmax (amount, spec):\n",
    "    X = truncnorm((spec[0] - spec[2]) / spec[3], (spec[1] - spec[2]) / spec[3], loc=spec[2], scale=spec[3])\n",
    "    return X.rvs(amount)\n",
    "\n",
    "\n",
    "normal(10, [52, 12.5])\n",
    "#normal(10, [27.3397, 4.77216])"
   ]
  },
  {
   "cell_type": "code",
   "execution_count": 54,
   "metadata": {},
   "outputs": [
    {
     "data": {
      "text/plain": [
       "0           [age, gender, race, BMI, physicalActivity]\n",
       "1    [[56, 12.5], [[f, m], [0.52, 0.48]], [[white, ...\n",
       "2    [<function normal at 0x0615E6A0>, <function ch...\n",
       "dtype: object"
      ]
     },
     "execution_count": 54,
     "metadata": {},
     "output_type": "execute_result"
    }
   ],
   "source": [
    "#przykładowe generowanie populacji z niektórymi cechami\n",
    "\n",
    "testspec = [\"age\", \"gender\", \"race\", \"BMI\", \"physicalActivity\"]\n",
    "testweights = [[56, 12.5],#age[mean, standard_deviation] - normal dist.\n",
    "            [[\"f\", \"m\"],[0.52, 0.48]],#gender[vals, weights] - weighted single choice\n",
    "            [[\"white\",\"black\",\"other\"],[0.66, 0.22, 0.12]],#race[vals, weights] - weighted single choice\n",
    "              [12.1212, 44.8364, 27.3397, 4.77216 ], #BMI [min_val, max_val, mean, std]] -beta\n",
    "              [0, 510, 127.095, 101.904]] #activityMinutes [min_val, max_val, mean, std]] -beta\n",
    "            #otherIllnesses będziemy modelować z wykorzystaniem metody weighted single choice wybierając\n",
    "            #ułamki wg występowania choroby w populacji\n",
    "#raczej przekazanie funkcji zamiast stringów\n",
    "testdistrmethods = [normal, choice, choice, minmax, minmax]\n",
    "#testdistrmethods = [normal, choice, choice, normal]\n",
    "testdata = [testspec, testweights, testdistrmethods]\n"
   ]
  },
  {
   "cell_type": "code",
   "execution_count": 86,
   "metadata": {
    "scrolled": false
   },
   "outputs": [
    {
     "data": {
      "text/html": [
       "<div>\n",
       "<style scoped>\n",
       "    .dataframe tbody tr th:only-of-type {\n",
       "        vertical-align: middle;\n",
       "    }\n",
       "\n",
       "    .dataframe tbody tr th {\n",
       "        vertical-align: top;\n",
       "    }\n",
       "\n",
       "    .dataframe thead th {\n",
       "        text-align: right;\n",
       "    }\n",
       "</style>\n",
       "<table border=\"1\" class=\"dataframe\">\n",
       "  <thead>\n",
       "    <tr style=\"text-align: right;\">\n",
       "      <th></th>\n",
       "      <th>age</th>\n",
       "      <th>gender</th>\n",
       "      <th>race</th>\n",
       "      <th>otherIllnesses</th>\n",
       "    </tr>\n",
       "  </thead>\n",
       "  <tbody>\n",
       "    <tr>\n",
       "      <th>0</th>\n",
       "      <td>74.168026</td>\n",
       "      <td>f</td>\n",
       "      <td>white</td>\n",
       "      <td>asthma</td>\n",
       "    </tr>\n",
       "    <tr>\n",
       "      <th>1</th>\n",
       "      <td>68.652537</td>\n",
       "      <td>m</td>\n",
       "      <td>white</td>\n",
       "      <td>asthma</td>\n",
       "    </tr>\n",
       "    <tr>\n",
       "      <th>2</th>\n",
       "      <td>70.085278</td>\n",
       "      <td>m</td>\n",
       "      <td>white</td>\n",
       "      <td>hypertension</td>\n",
       "    </tr>\n",
       "    <tr>\n",
       "      <th>3</th>\n",
       "      <td>62.798409</td>\n",
       "      <td>m</td>\n",
       "      <td>white</td>\n",
       "      <td>hypertension</td>\n",
       "    </tr>\n",
       "    <tr>\n",
       "      <th>4</th>\n",
       "      <td>70.197420</td>\n",
       "      <td>m</td>\n",
       "      <td>white</td>\n",
       "      <td>hypertension</td>\n",
       "    </tr>\n",
       "    <tr>\n",
       "      <th>...</th>\n",
       "      <td>...</td>\n",
       "      <td>...</td>\n",
       "      <td>...</td>\n",
       "      <td>...</td>\n",
       "    </tr>\n",
       "    <tr>\n",
       "      <th>1495</th>\n",
       "      <td>71.019901</td>\n",
       "      <td>m</td>\n",
       "      <td>white</td>\n",
       "      <td>hypertension</td>\n",
       "    </tr>\n",
       "    <tr>\n",
       "      <th>1496</th>\n",
       "      <td>64.000206</td>\n",
       "      <td>f</td>\n",
       "      <td>white</td>\n",
       "      <td>asthma</td>\n",
       "    </tr>\n",
       "    <tr>\n",
       "      <th>1497</th>\n",
       "      <td>80.014508</td>\n",
       "      <td>m</td>\n",
       "      <td>white</td>\n",
       "      <td>hypertension</td>\n",
       "    </tr>\n",
       "    <tr>\n",
       "      <th>1498</th>\n",
       "      <td>84.080635</td>\n",
       "      <td>f</td>\n",
       "      <td>south asian</td>\n",
       "      <td>hypertension</td>\n",
       "    </tr>\n",
       "    <tr>\n",
       "      <th>1499</th>\n",
       "      <td>77.191911</td>\n",
       "      <td>m</td>\n",
       "      <td>white</td>\n",
       "      <td>hypertension</td>\n",
       "    </tr>\n",
       "  </tbody>\n",
       "</table>\n",
       "<p>1500 rows × 4 columns</p>\n",
       "</div>"
      ],
      "text/plain": [
       "            age gender         race otherIllnesses\n",
       "0     74.168026      f        white         asthma\n",
       "1     68.652537      m        white         asthma\n",
       "2     70.085278      m        white   hypertension\n",
       "3     62.798409      m        white   hypertension\n",
       "4     70.197420      m        white   hypertension\n",
       "...         ...    ...          ...            ...\n",
       "1495  71.019901      m        white   hypertension\n",
       "1496  64.000206      f        white         asthma\n",
       "1497  80.014508      m        white   hypertension\n",
       "1498  84.080635      f  south asian   hypertension\n",
       "1499  77.191911      m        white   hypertension\n",
       "\n",
       "[1500 rows x 4 columns]"
      ]
     },
     "execution_count": 86,
     "metadata": {},
     "output_type": "execute_result"
    }
   ],
   "source": [
    "class Generator :\n",
    "    #metadata section\n",
    "    author = \"\"\n",
    "    title = \"\"\n",
    "    link = \"\"\n",
    "    population = 0\n",
    "    positive_population = 0\n",
    "    multimorbid = 0\n",
    "    \n",
    "    #generation spec values\n",
    "    data = []\n",
    "    \n",
    "    def __init__(self, data, metadata):\n",
    "        #save metadata\n",
    "        if len(metadata) == 3 :\n",
    "            author, title, link = metadata\n",
    "        if len(metadata) == 4 :\n",
    "            author, title, link, population = metadata\n",
    "        if len(metadata) == 5 :\n",
    "            author, title, link, population, positive_population = metadata    \n",
    "        if len(metadata) == 6 :\n",
    "            author, title, link, population, positive_population, multimorbid = metadata\n",
    "        \n",
    "        self.data = data\n",
    "        return self\n",
    "    \n",
    "    def populateDatabase(amount, speclist):\n",
    "        #przecięcie zboiru generowanych cech i wszystkich możliwych\n",
    "        columns = set(speclist[0]).intersection(populationFields)\n",
    "\n",
    "        df = pd.DataFrame()\n",
    "        for index,vals,method in zip(speclist[0],speclist[1],speclist[2]) :\n",
    "            df[index] = method(amount, vals)\n",
    "\n",
    "        return df\n",
    "    \n",
    "populateDatabase(1500, data)"
   ]
  },
  {
   "cell_type": "code",
   "execution_count": 50,
   "metadata": {},
   "outputs": [
    {
     "name": "stdout",
     "output_type": "stream",
     "text": [
      "True\n"
     ]
    }
   ],
   "source": [
    "#create a new article entry\n",
    "import os.path\n",
    "\n",
    "\n",
    "#metadata section\n",
    "author = \"Yogini V. Chudasama\"\n",
    "title = \"Multimorbidity and SARS-CoV-2 infection in UK Biobank\"\n",
    "link = \"https://www.ncbi.nlm.nih.gov/pmc/articles/PMC7271848/\"\n",
    "\n",
    "#data section\n",
    "population = 3002\n",
    "positive_population = 1073\n",
    "multimorbid = 329\n",
    "\n",
    "spec = [\"age\", \"gender\", \"race\", \"otherIllnesses\"]\n",
    "weights = [[70, 6.5],\n",
    "           [[\"f\", \"m\"],[0.46, 0.54]],\n",
    "           [[\"white\",\"south asian\", \"black\",\"other\"],[0.85, 0.05, 0.06, 0.04]],\n",
    "           [[\"hypertension\", \"asthma\", \"cancer\", \"diabetes\"],[0.78, 0.12, 0.01, 0.09]]]\n",
    "#raczej przekazanie funkcji zamiast stringów\n",
    "distrmethods = [normal, choice, choice, choice]\n",
    "data = [spec, weights, distrmethods]\n",
    "\n",
    "\n",
    "#autmoatically find next file name in namespace\n",
    "i = 0\n",
    "while print(os.path.isfile(f\"./data/data{i}.csv\")) == True :\n",
    "    i+=1\n",
    "#save dataframe to file\n",
    "pd.DataFrame(data).to_csv(f\"data/data{i}.csv\")\n",
    "#write a corresponding entry to metadata file\n",
    "newrow = pd.Series(author, title, link, population, positive_population, multimorbid)\n",
    "pd.read_csv(\"data/metadata.csv\").append(newrow).to_csv(\"data/metadata.csv\")"
   ]
  },
  {
   "cell_type": "code",
   "execution_count": 89,
   "metadata": {},
   "outputs": [],
   "source": []
  },
  {
   "cell_type": "code",
   "execution_count": null,
   "metadata": {},
   "outputs": [],
   "source": []
  }
 ],
 "metadata": {
  "kernelspec": {
   "display_name": "Python 3",
   "language": "python",
   "name": "python3"
  },
  "language_info": {
   "codemirror_mode": {
    "name": "ipython",
    "version": 3
   },
   "file_extension": ".py",
   "mimetype": "text/x-python",
   "name": "python",
   "nbconvert_exporter": "python",
   "pygments_lexer": "ipython3",
   "version": "3.8.5"
  }
 },
 "nbformat": 4,
 "nbformat_minor": 4
}
