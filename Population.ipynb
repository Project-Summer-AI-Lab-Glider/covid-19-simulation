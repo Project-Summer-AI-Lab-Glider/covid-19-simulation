{
 "cells": [
  {
   "cell_type": "markdown",
   "metadata": {},
   "source": [
    "<h1>Population generation</h1>"
   ]
  },
  {
   "cell_type": "code",
   "execution_count": 1,
   "metadata": {},
   "outputs": [],
   "source": [
    "#necessary imports\n",
    "import numpy as np\n",
    "import pandas as pd\n",
    "from numpy import random"
   ]
  },
  {
   "cell_type": "code",
   "execution_count": 15,
   "metadata": {},
   "outputs": [],
   "source": [
    "#możliwe generowane pola. Generacja opiera się o przecięcie tego zbioru = Ω ze zbiorem generowanym = A ⊂ Ω\n",
    "populationFields = [\"age\", \"gender\", \"race\", \"otherIllnesses\", \"BMI\", \"physicalActivity\"]\n",
    "\n",
    "from enum import Enum\n",
    "class OtherIllnesses(Enum):\n",
    "    hypertension = 0\n",
    "    asthma = 1\n",
    "    cancer = 2\n",
    "    diabetes = 3\n",
    "    depression = 4\n",
    "    angina = 5\n",
    "    myocardialInfraction = 6\n",
    "    irritableBowelSyndrome = 7\n",
    "    stroke = 8\n",
    "    migraine = 9\n",
    "#end class\n"
   ]
  },
  {
   "cell_type": "code",
   "execution_count": null,
   "metadata": {},
   "outputs": [],
   "source": [
    "rng = default_rng()\n",
    "#każda funkcja zwraca ilość == amount danych dla całej populacji\n",
    "\n",
    "#in: (ilość zwracanych sampli, [mean,std_dev])\n",
    "def ageGen(amount, spec):\n",
    "    #generuje rozkłąd normalny wg mediany i odchylenia standardowego\n",
    "    ret = rng.normal(spec[0], spec[1], amount)\n",
    "    return ret\n",
    "#in: (ilość zwracanych sampli, [ [zbiór, opcji, do, wyboru], [wagi, 0-1, każdego, elementu] ])\n",
    "def genderGen(amount, spec):\n",
    "                    #source, out-size, replace, probabilities\n",
    "    ret = rng.choice(spec[0], amount, True, spec[1])\n",
    "    return ret\n",
    "def raceGen(amount, spec):\n",
    "    ret = rng.choice(spec[0], amount, True, spec[1])\n",
    "    return ret\n",
    "#zwraca wektor krotek z istniejącymi chorobami\n",
    "def otherIllnesses(amount, spec):\n",
    "    "
   ]
  },
  {
   "cell_type": "code",
   "execution_count": 9,
   "metadata": {
    "scrolled": false
   },
   "outputs": [
    {
     "data": {
      "text/html": [
       "<div>\n",
       "<style scoped>\n",
       "    .dataframe tbody tr th:only-of-type {\n",
       "        vertical-align: middle;\n",
       "    }\n",
       "\n",
       "    .dataframe tbody tr th {\n",
       "        vertical-align: top;\n",
       "    }\n",
       "\n",
       "    .dataframe thead th {\n",
       "        text-align: right;\n",
       "    }\n",
       "</style>\n",
       "<table border=\"1\" class=\"dataframe\">\n",
       "  <thead>\n",
       "    <tr style=\"text-align: right;\">\n",
       "      <th></th>\n",
       "      <th>age</th>\n",
       "      <th>gender</th>\n",
       "    </tr>\n",
       "  </thead>\n",
       "  <tbody>\n",
       "    <tr>\n",
       "      <th>0</th>\n",
       "      <td>0.0</td>\n",
       "      <td>0.0</td>\n",
       "    </tr>\n",
       "    <tr>\n",
       "      <th>1</th>\n",
       "      <td>0.0</td>\n",
       "      <td>0.0</td>\n",
       "    </tr>\n",
       "    <tr>\n",
       "      <th>2</th>\n",
       "      <td>0.0</td>\n",
       "      <td>0.0</td>\n",
       "    </tr>\n",
       "    <tr>\n",
       "      <th>3</th>\n",
       "      <td>0.0</td>\n",
       "      <td>0.0</td>\n",
       "    </tr>\n",
       "    <tr>\n",
       "      <th>4</th>\n",
       "      <td>0.0</td>\n",
       "      <td>0.0</td>\n",
       "    </tr>\n",
       "    <tr>\n",
       "      <th>...</th>\n",
       "      <td>...</td>\n",
       "      <td>...</td>\n",
       "    </tr>\n",
       "    <tr>\n",
       "      <th>4999995</th>\n",
       "      <td>0.0</td>\n",
       "      <td>0.0</td>\n",
       "    </tr>\n",
       "    <tr>\n",
       "      <th>4999996</th>\n",
       "      <td>0.0</td>\n",
       "      <td>0.0</td>\n",
       "    </tr>\n",
       "    <tr>\n",
       "      <th>4999997</th>\n",
       "      <td>0.0</td>\n",
       "      <td>0.0</td>\n",
       "    </tr>\n",
       "    <tr>\n",
       "      <th>4999998</th>\n",
       "      <td>0.0</td>\n",
       "      <td>0.0</td>\n",
       "    </tr>\n",
       "    <tr>\n",
       "      <th>4999999</th>\n",
       "      <td>0.0</td>\n",
       "      <td>0.0</td>\n",
       "    </tr>\n",
       "  </tbody>\n",
       "</table>\n",
       "<p>5000000 rows × 2 columns</p>\n",
       "</div>"
      ],
      "text/plain": [
       "         age  gender\n",
       "0        0.0     0.0\n",
       "1        0.0     0.0\n",
       "2        0.0     0.0\n",
       "3        0.0     0.0\n",
       "4        0.0     0.0\n",
       "...      ...     ...\n",
       "4999995  0.0     0.0\n",
       "4999996  0.0     0.0\n",
       "4999997  0.0     0.0\n",
       "4999998  0.0     0.0\n",
       "4999999  0.0     0.0\n",
       "\n",
       "[5000000 rows x 2 columns]"
      ]
     },
     "execution_count": 9,
     "metadata": {},
     "output_type": "execute_result"
    }
   ],
   "source": [
    "def populateDatabase(amount, speclist):\n",
    "    #init rng for data generation\n",
    "    rng = default_rng()\n",
    "    #get intersection of given speclist and possible arguments\n",
    "    speclist = set(speclist).intersection(constants.populationFields)\n",
    "    #dim is short for dimension and describes table 2D axes dimensions\n",
    "    dimX = len(speclist)\n",
    "    dimY = amount\n",
    "    retarr = np.zeros(dimX*dimY).reshape(dimY, dimX)\n",
    "    #indices do not matter as they will be dropped anyway\n",
    "    indices = np.arange(dimY)\n",
    "    #create skeleton of database table\n",
    "    ret = pd.DataFrame(retarr, index=indices, columns=speclist)\n",
    "    #tutaj w ret jest struktura tabeli bez wartości\n",
    "    \n",
    "    \n",
    "    \n",
    "    return ret\n",
    "populateDatabase(5000000, [\"age\", \"gender\"], constants.testweights)"
   ]
  },
  {
   "cell_type": "code",
   "execution_count": null,
   "metadata": {},
   "outputs": [],
   "source": [
    "#przykładowe generowanie populacji z niektórymi cechami\n",
    "\n",
    "testspec = [\"age\", \"gender\", \"race\", \"otherIllnesses\"]\n",
    "testweights = [[56, 12.5],#age[mean, standard_deviation] - normal dist.\n",
    "            [[\"f\", \"m\"],[0.52, 0.48]],#gender[vals, weights] - weighted single choice\n",
    "            [[\"white\",\"black\",\"rainbow\"],[0.66, 0.22, 0.12]],#race[vals, weights] - weighted single choice\n",
    "            [[OtherIllnesses.hypertension, OtherIllnesses.asthma, OtherIllnesses.cancer], [0.12, 0.08, 0.03]]]\n",
    "testdata = [testspec, testweights]"
   ]
  },
  {
   "cell_type": "code",
   "execution_count": null,
   "metadata": {
    "scrolled": true
   },
   "outputs": [],
   "source": []
  },
  {
   "cell_type": "code",
   "execution_count": null,
   "metadata": {},
   "outputs": [],
   "source": []
  }
 ],
 "metadata": {
  "kernelspec": {
   "display_name": "Python 3",
   "language": "python",
   "name": "python3"
  },
  "language_info": {
   "codemirror_mode": {
    "name": "ipython",
    "version": 3
   },
   "file_extension": ".py",
   "mimetype": "text/x-python",
   "name": "python",
   "nbconvert_exporter": "python",
   "pygments_lexer": "ipython3",
   "version": "3.8.5"
  }
 },
 "nbformat": 4,
 "nbformat_minor": 4
}
